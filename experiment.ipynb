{
 "cells": [
  {
   "cell_type": "code",
   "execution_count": 2,
   "id": "df35735c",
   "metadata": {},
   "outputs": [
    {
     "name": "stderr",
     "output_type": "stream",
     "text": [
      "d:\\Meli\\Repositori local\\Web-YT-Summerize\\venv\\Lib\\site-packages\\tqdm\\auto.py:21: TqdmWarning: IProgress not found. Please update jupyter and ipywidgets. See https://ipywidgets.readthedocs.io/en/stable/user_install.html\n",
      "  from .autonotebook import tqdm as notebook_tqdm\n"
     ]
    },
    {
     "data": {
      "text/plain": [
       "True"
      ]
     },
     "execution_count": 2,
     "metadata": {},
     "output_type": "execute_result"
    }
   ],
   "source": [
    "import validators \n",
    "import streamlit as st\n",
    "from langchain.prompts import PromptTemplate\n",
    "from langchain_groq import ChatGroq\n",
    "from langchain.chains.summarize import load_summarize_chain\n",
    "from langchain.llms import HuggingFacePipeline\n",
    "from transformers import pipeline\n",
    "from langchain_community.document_loaders import UnstructuredURLLoader, YoutubeLoader\n",
    "from langchain_huggingface import HuggingFaceEndpoint\n",
    "import os\n",
    "from dotenv import load_dotenv\n",
    "load_dotenv()"
   ]
  },
  {
   "cell_type": "code",
   "execution_count": 4,
   "id": "fc475bbb",
   "metadata": {},
   "outputs": [],
   "source": [
    "# Setting env\n",
    "HF_API_KEY = os.getenv(\"HF_API_KEY\")\n",
    "GROQ_API_KEY = os.getenv(\"GROQ_API_KEY\")"
   ]
  },
  {
   "cell_type": "code",
   "execution_count": 6,
   "id": "091f031f",
   "metadata": {},
   "outputs": [],
   "source": [
    "# Create custom function for get transcripts from youtube video\n",
    "import re \n",
    "from youtube_transcript_api import YouTubeTranscriptApi\n",
    "\n",
    "def get_transcripts(content_url):\n",
    "    video_id = re.findall(r\"(?<=v=)[^&#]+\", content_url)\n",
    "    if not video_id:\n",
    "        raise ValueError(\"Video is not found\")\n",
    "    video_id = video_id[0]\n",
    "    transcripts = YouTubeTranscriptApi.get_transcript(video_id)\n",
    "    text = \" \".join([entry[\"text\"] for entry in transcripts])\n",
    "    return text"
   ]
  },
  {
   "cell_type": "code",
   "execution_count": 7,
   "id": "d81c8321",
   "metadata": {},
   "outputs": [
    {
     "name": "stdout",
     "output_type": "stream",
     "text": [
      "artificial intelligence for people in a hurry the easiest way to think about artificial intelligence is in the context of a human after all humans are the most intelligent creatures we know off AI is a broad branch of computer science the goal of AI is to create systems that can function intelligently and independently humans can speak and listen to communicate through language this is the field of speech recognition much of speech recognition is statistically based hence it's called statistical learning humans can write and read text in a language this is the field of NLP or natural language processing humans can see with their eyes and process what they see this is the field of computer vision computer vision falls under the symbolic way for computers to process information recently there has been another way which I'll come to later humans recognize the scene around them through their eyes which create images of that world this field of image processing which even though is not directly related to AI is required for computer vision humans can understand their environment and move around fluidly this is the field of robotics humans have the ability to see patterns such as grouping of like objects this is the field of pattern recognition machines are even better at pattern recognition because they can use more data and dimensions of data this is the field of machine learning now let's talk about the human brain the human brain is a network of neurons and we use these to learn things if we can replicate the structure and the function of the human brain we might be able to get cognitive capabilities in machines this is the field of neural networks if these networks are more complex and deeper and we use those to learn complex thing that is the field of deep learning there are different types of deep learning and machines which are essentially different techniques to replicate what the human brain does if we get the network to scan images from left to right top to bottom it's a convolution neural network a CNN is used to recognize objects in a scene this is how computer vision fits in an object recognition is accomplished through AI humans can remember the past like what you had for dinner last night well at least most of you we can get a neural network to remember a limited past this is a recurrent neural network as you see there are two ways a eye works one is symbolic based and another is data based for the database side called a machine learning we need to feed the Machine lots of data before it can learn for example if you had lots of data for sales versus advertising spend you can plot that data to see some kind of a pattern if the machine can learn this pattern then it can make predictions based on what it has learned while one or two or even three dimensions is easy for humans to understand and learn machines can learn in many more dimensions like even hundred or thousands that's why machines can look at lots of high dimensional data and determine patterns once it learns these patterns it can make predictions that humans can't even come close to we can use all these machine learning techniques to do one of two things classification or prediction as an example when you use some information about customers to assign new customers to a group like young adults then you are classifying that customer if you use data to predict if they're likely to defect to a competitor then you're making a prediction there is another way to think about learning algorithms used for AI if you train an algorithm with data that also contain the answer then it's called supervised learning for example when you train a machine to recognize your friends by name you'll need to identify them for the computer if you train an algorithm with data where you want the machine to figure out the patterns then it's unsupervised learning for example you might want to feed the data about celestial objects in the universe and expect the machine to come up with patterns in that data by itself if you give any algorithm a goal and expect the Machine through trial-and-error to achieve that goal then it's called reinforcement learning a robot's attempt to climb over the wall until it succeeds is an example of that so there you go thanks for watching and if you like my videos please subscribe\n"
     ]
    }
   ],
   "source": [
    "content_url = \"https://www.youtube.com/watch?v=2ePf9rue1Ao\"\n",
    "text = get_transcripts(content_url)\n",
    "print(text)"
   ]
  },
  {
   "cell_type": "code",
   "execution_count": 8,
   "id": "c2aa5177",
   "metadata": {},
   "outputs": [
    {
     "data": {
      "text/plain": [
       "[Document(metadata={'source': '2ePf9rue1Ao'}, page_content=\"artificial intelligence for people in a hurry the easiest way to think about artificial intelligence is in the context of a human after all humans are the most intelligent creatures we know off AI is a broad branch of computer science the goal of AI is to create systems that can function intelligently and independently humans can speak and listen to communicate through language this is the field of speech recognition much of speech recognition is statistically based hence it's called statistical learning humans can write and read text in a language this is the field of NLP or natural language processing humans can see with their eyes and process what they see this is the field of computer vision computer vision falls under the symbolic way for computers to process information recently there has been another way which I'll come to later humans recognize the scene around them through their eyes which create images of that world this field of image processing which even though is not directly related to AI is required for computer vision humans can understand their environment and move around fluidly this is the field of robotics humans have the ability to see patterns such as grouping of like objects this is the field of pattern recognition machines are even better at pattern recognition because they can use more data and dimensions of data this is the field of machine learning now let's talk about the human brain the human brain is a network of neurons and we use these to learn things if we can replicate the structure and the function of the human brain we might be able to get cognitive capabilities in machines this is the field of neural networks if these networks are more complex and deeper and we use those to learn complex thing that is the field of deep learning there are different types of deep learning and machines which are essentially different techniques to replicate what the human brain does if we get the network to scan images from left to right top to bottom it's a convolution neural network a CNN is used to recognize objects in a scene this is how computer vision fits in an object recognition is accomplished through AI humans can remember the past like what you had for dinner last night well at least most of you we can get a neural network to remember a limited past this is a recurrent neural network as you see there are two ways a eye works one is symbolic based and another is data based for the database side called a machine learning we need to feed the Machine lots of data before it can learn for example if you had lots of data for sales versus advertising spend you can plot that data to see some kind of a pattern if the machine can learn this pattern then it can make predictions based on what it has learned while one or two or even three dimensions is easy for humans to understand and learn machines can learn in many more dimensions like even hundred or thousands that's why machines can look at lots of high dimensional data and determine patterns once it learns these patterns it can make predictions that humans can't even come close to we can use all these machine learning techniques to do one of two things classification or prediction as an example when you use some information about customers to assign new customers to a group like young adults then you are classifying that customer if you use data to predict if they're likely to defect to a competitor then you're making a prediction there is another way to think about learning algorithms used for AI if you train an algorithm with data that also contain the answer then it's called supervised learning for example when you train a machine to recognize your friends by name you'll need to identify them for the computer if you train an algorithm with data where you want the machine to figure out the patterns then it's unsupervised learning for example you might want to feed the data about celestial objects in the universe and expect the machine to come up with patterns in that data by itself if you give any algorithm a goal and expect the Machine through trial-and-error to achieve that goal then it's called reinforcement learning a robot's attempt to climb over the wall until it succeeds is an example of that so there you go thanks for watching and if you like my videos please subscribe\")]"
      ]
     },
     "execution_count": 8,
     "metadata": {},
     "output_type": "execute_result"
    }
   ],
   "source": [
    "# Use YoutubeLoader to get transcripts\n",
    "yt_url = \"https://www.youtube.com/watch?v=2ePf9rue1Ao\"\n",
    "loader = YoutubeLoader.from_youtube_url(yt_url)\n",
    "yt_docs = loader.load()\n",
    "yt_docs"
   ]
  },
  {
   "cell_type": "code",
   "execution_count": 9,
   "id": "3e0d81e4",
   "metadata": {},
   "outputs": [
    {
     "data": {
      "text/plain": [
       "[Document(metadata={'source': 'https://www.mayoclinic.org/diseases-conditions/malaria/symptoms-causes/syc-20351184'}, page_content='Skip to content\\n\\nMalaria\\n\\nRequest an appointment\\n\\nOn this page\\n\\nOverview\\n\\nSymptoms\\n\\nWhen to see a doctor\\n\\nCauses\\n\\nRisk factors\\n\\nComplications\\n\\nPrevention\\n\\nOverview\\n\\nMalaria is a disease caused by a parasite. The parasite is spread to humans through the bites of infected mosquitoes. People who have malaria usually feel very sick with a high fever and shaking chills.\\n\\nWhile the disease is uncommon in temperate climates, malaria is still common in tropical and subtropical countries. Each year nearly 290 million people are infected with malaria, and more than 400,000 people die of the disease.\\n\\nTo reduce malaria infections, world health programs distribute preventive drugs and insecticide-treated bed nets to protect people from mosquito bites. The World Health Organization has recommended a malaria vaccine for use in children who live in countries with high numbers of malaria cases.\\n\\nProtective clothing, bed nets and insecticides can protect you while traveling. You also can take preventive medicine before, during and after a trip to a high-risk area. Many malaria parasites have developed resistance to common drugs used to treat the disease.\\n\\nProducts & Services\\n\\nA Book: Mayo Clinic Family Health Book\\n\\nNewsletter: Mayo Clinic Health Letter — Digital Edition\\n\\nSymptoms\\n\\nSigns and symptoms of malaria may include:\\n\\nFever\\n\\nChills\\n\\nGeneral feeling of discomfort\\n\\nHeadache\\n\\nNausea and vomiting\\n\\nDiarrhea\\n\\nAbdominal pain\\n\\nMuscle or joint pain\\n\\nFatigue\\n\\nRapid breathing\\n\\nRapid heart rate\\n\\nCough\\n\\nSome people who have malaria experience cycles of malaria \"attacks.\" An attack usually starts with shivering and chills, followed by a high fever, followed by sweating and a return to normal temperature.\\n\\nMalaria signs and symptoms typically begin within a few weeks after being bitten by an infected mosquito. However, some types of malaria parasites can lie dormant in your body for up to a year.\\n\\nWhen to see a doctor\\n\\nTalk to your doctor if you experience a fever while living in or after traveling to a high-risk malaria region. If you have severe symptoms, seek emergency medical attention.\\n\\nRequest an appointment\\n\\nFrom Mayo Clinic to your inbox\\n\\nSign up for free and stay up to date on research advancements, health tips, current health topics, and expertise on managing health. Click here for an email preview.\\n\\nWe use the data you provide to deliver you the content you requested. To provide you with the most relevant and helpful information, we may combine your email and website data with other information we have about you. If you are a Mayo Clinic patient, we will only use your protected health information as outlined in our Notice of Privacy Practices. You may opt out of email communications at any time by clicking on the unsubscribe link in the email.\\n\\nCauses\\n\\nMalaria is caused by a single-celled parasite of the genus plasmodium. The parasite is transmitted to humans most commonly through mosquito bites.\\n\\nMosquito transmission cycle\\n\\nMalaria transmission cycle\\n\\nMalaria transmission cycle\\n\\nMalaria spreads when a mosquito becomes infected with the disease after biting an infected person, and the infected mosquito then bites a noninfected person. The malaria parasites enter that person\\'s bloodstream and travel to the liver. When the parasites mature, they leave the liver and infect red blood cells.\\n\\nUninfected mosquito. A mosquito becomes infected by feeding on a person who has malaria.\\n\\nTransmission of parasite. If this mosquito bites you in the future, it can transmit malaria parasites to you.\\n\\nIn the liver. Once the parasites enter your body, they travel to your liver — where some types can lie dormant for as long as a year.\\n\\nInto the bloodstream. When the parasites mature, they leave the liver and infect your red blood cells. This is when people typically develop malaria symptoms.\\n\\nOn to the next person. If an uninfected mosquito bites you at this point in the cycle, it will become infected with your malaria parasites and can spread them to the other people it bites.\\n\\nOther modes of transmission\\n\\nBecause the parasites that cause malaria affect red blood cells, people can also catch malaria from exposure to infected blood, including:\\n\\nFrom mother to unborn child\\n\\nThrough blood transfusions\\n\\nBy sharing needles used to inject drugs\\n\\nRisk factors\\n\\nThe greatest risk factor for developing malaria is to live in or to visit areas where the disease is common. These include the tropical and subtropical regions of:\\n\\nSub-Saharan Africa\\n\\nSouth and Southeast Asia\\n\\nPacific Islands\\n\\nCentral America and northern South America\\n\\nThe degree of risk depends on local malaria control, seasonal changes in malaria rates and the precautions you take to prevent mosquito bites.\\n\\nRisks of more-severe disease\\n\\nPeople at increased risk of serious disease include:\\n\\nYoung children and infants\\n\\nOlder adults\\n\\nTravelers coming from areas with no malaria\\n\\nPregnant women and their unborn children\\n\\nIn many countries with high malaria rates, the problem is worsened by lack of access to preventive measures, medical care and information.\\n\\nImmunity can wane\\n\\nResidents of a malaria region may be exposed to the disease enough to acquire a partial immunity, which can lessen the severity of malaria symptoms. However, this partial immunity can disappear if you move to a place where you\\'re no longer frequently exposed to the parasite.\\n\\nComplications\\n\\nMalaria can be fatal, particularly when caused by the plasmodium species common in Africa. The World Health Organization estimates that about 94% of all malaria deaths occur in Africa — most commonly in children under the age of 5.\\n\\nMalaria deaths are usually related to one or more serious complications, including:\\n\\nCerebral malaria. If parasite-filled blood cells block small blood vessels to your brain (cerebral malaria), swelling of your brain or brain damage may occur. Cerebral malaria may cause seizures and coma.\\n\\nBreathing problems. Accumulated fluid in your lungs (pulmonary edema) can make it difficult to breathe.\\n\\nOrgan failure. Malaria can damage the kidneys or liver or cause the spleen to rupture. Any of these conditions can be life-threatening.\\n\\nAnemia. Malaria may result in not having enough red blood cells for an adequate supply of oxygen to your body\\'s tissues (anemia).\\n\\nLow blood sugar. Severe forms of malaria can cause low blood sugar (hypoglycemia), as can quinine — a common medication used to combat malaria. Very low blood sugar can result in coma or death.\\n\\nMalaria may recur\\n\\nSome varieties of the malaria parasite, which typically cause milder forms of the disease, can persist for years and cause relapses.\\n\\nPrevention\\n\\nIf you live in or are traveling to an area where malaria is common, take steps to avoid mosquito bites. Mosquitoes are most active between dusk and dawn. To protect yourself from mosquito bites, you should:\\n\\nCover your skin. Wear pants and long-sleeved shirts. Tuck in your shirt, and tuck pant legs into socks.\\n\\nApply insect repellent to skin. Use an insect repellent registered with the Environmental Protection Agency on any exposed skin. These include repellents that contain DEET, picaridin, IR3535, oil of lemon eucalyptus (OLE), para-menthane-3,8-diol (PMD) or 2-undecanone. Do not use a spray directly on your face. Do not use products with oil of lemon eucalyptus (OLE) or p-Menthane-3,8-diol (PMD) on children under age 3.\\n\\nApply repellent to clothing. Sprays containing permethrin are safe to apply to clothing.\\n\\nSleep under a net. Bed nets, particularly those treated with insecticides, such as permethrin, help prevent mosquito bites while you are sleeping.\\n\\nPreventive medicine\\n\\nIf you\\'ll be traveling to a location where malaria is common, talk to your doctor a few months ahead of time about whether you should take drugs before, during and after your trip to help protect you from malaria parasites.\\n\\nIn general, the drugs taken to prevent malaria are the same drugs used to treat the disease. What drug you take depends on where and how long you are traveling and your own health.\\n\\nVaccine\\n\\nThe World Health Organization has recommended a malaria vaccine for use in children who live in countries with high numbers of malaria cases.\\n\\nResearchers are continuing to develop and study malaria vaccines to prevent infection.\\n\\nRequest an appointment\\n\\nBy Mayo Clinic Staff\\n\\nFeb 09, 2023\\n\\nAskMayoExpert. Malaria. Rochester, Minn.: Mayo Foundation for Medical Education and Research; 2018.\\n\\nJameson JL, et al., eds. Malaria. In: Harrison\\'s Principles of Internal Medicine. 20th ed. New York, N.Y.: The McGraw-Hill Companies; 2018. https://accessmedicine.mhmedical.com. Accessed Oct. 9, 2018.\\n\\nTintinalli JE, et al., eds. Malaria. In: Tintinalli\\'s Emergency Medicine: A Comprehensive Study Guide. 8th ed. New York, N.Y.: McGraw-Hill Education; 2016. http://www.accessmedicine.mhmedical.com. Accessed Oct. 9, 2018.\\n\\nMalaria. Merck Manual Professional Version. http://www.merckmanuals.com/professional/infectious-diseases/extraintestinal-protozoa/malaria. Accessed Oct. 9, 2018.\\n\\nMalaria. Centers for Disease Control and Prevention. http://wwwnc.cdc.gov/travel/diseases/malaria. Accessed Nov. 6, 2015.\\n\\nBreman JG. Clinical manifestations of malaria in nonpregnant adults and children. https://www.uptodate.com/contents/search. Accessed Oct. 9, 2018.\\n\\nDaily J. Treatment of uncomplicated falciparum malaria in nonpregnant adults and children. https://www.uptodate.com/contents/search. Accessed Oct. 9, 2018.\\n\\nKey points: World malaria report 2017. World Health Organization. https://www.who.int/malaria/media/world-malaria-report-2017/en/. Accessed Oct. 9, 2018.\\n\\nMalaria. World Health Organization. https://www.who.int/malaria/en/. Accessed Oct. 9, 2018.\\n\\nMutebi JP, et al. Protection against mosquitoes, ticks, & other arthropods. In: CDC Yellow Book 2018: Health Information for International Travelers. https://wwwnc.cdc.gov/travel/yellowbook/2018/the-pre-travel-consultation/protection-against-mosquitoes-ticks-other-arthropods. Accessed Oct. 27, 2018.\\n\\nDiagnosis & treatment\\n\\nDiseases & Conditions\\n\\nMalaria - Symptoms & causes - Mayo Clinic\\n\\nNews from Mayo Clinic\\n\\n\\n\\nMalaria in the US: A Mayo Clinic expert offers insight, tips on prevention\\n\\nMore Information\\n\\nMalaria transmission cycle\\n\\nProducts & Services\\n\\nA Book: Mayo Clinic Family Health Book\\n\\nNewsletter: Mayo Clinic Health Letter — Digital Edition\\n\\nCON-XXXXXXXX\\n\\nSkip Advertisement\\n\\nAdvertisement\\n\\nMayo Clinic does not endorse companies or products. Advertising revenue supports our not-for-profit mission.\\n\\nAdvertising & Sponsorship\\n\\nPolicy\\n\\nOpportunities\\n\\nAd Choices\\n\\nMayo Clinic Press\\n\\nCheck out these best-sellers and special offers on books and newsletters from Mayo Clinic Press.\\n\\nMayo Clinic on Incontinence\\n\\nThe Essential Diabetes Book\\n\\nMayo Clinic on Hearing and Balance\\n\\nFREE Mayo Clinic Diet Assessment\\n\\nMayo Clinic Health Letter - FREE book\\n\\nSkip Advertisement\\n\\nAdvertisement\\n\\nClose\\n\\nAdvertisement\\n\\n\\n\\nFuel groundbreaking medical research!\\n\\nHelp Fund Research\\n\\nYour donation powers the future of medicine and helps save lives.\\n\\nHelp Fund Research\\n\\n© 1998-2025 Mayo Foundation for Medical Education and Research (MFMER). All rights reserved.')]"
      ]
     },
     "execution_count": 9,
     "metadata": {},
     "output_type": "execute_result"
    }
   ],
   "source": [
    "# Use UnstructuredURLLOader to get web content\n",
    "content_url = \"https://www.mayoclinic.org/diseases-conditions/malaria/symptoms-causes/syc-20351184\"\n",
    "loader=UnstructuredURLLoader(urls=[content_url],\n",
    "                            headers={\n",
    "                                    \"User-Agent\": \"Mozilla/5.0 (Macintosh; Intel Mac OS X 13_5_1) AppleWebKit/537.36 (KHTML, like Gecko) Chrome/116.0.0.0 Safari/537.36\"\n",
    "                                    })\n",
    "docs = loader.load()\n",
    "docs"
   ]
  },
  {
   "cell_type": "code",
   "execution_count": 10,
   "id": "106015d8",
   "metadata": {},
   "outputs": [],
   "source": [
    "# # Load HF LLM\n",
    "# repo_id = \"dwhouse/gemma-2-2b-it-research-in-a-flash\"\n",
    "# summerize = pipeline(\"summarization\", model=repo_id, token=HF_API_KEY)\n",
    "# hf_llm = HuggingFacePipeline(pipeline=summerize)"
   ]
  },
  {
   "cell_type": "code",
   "execution_count": 11,
   "id": "f7ed6b39",
   "metadata": {},
   "outputs": [],
   "source": [
    "# Load Groq LLM \n",
    "gr_llm = ChatGroq(model=\"gemma2-9b-it\", groq_api_key=GROQ_API_KEY)"
   ]
  },
  {
   "cell_type": "code",
   "execution_count": 12,
   "id": "d175e475",
   "metadata": {},
   "outputs": [],
   "source": [
    "# Create Prompt\n",
    "prompts_template = \"\"\" \n",
    "You as assistant that has task to provide summarize and explain of the following content\n",
    " from website or youtube video within 500 until 1000 words in Bahasa Indonesia:\n",
    "content : {text}\n",
    "\n",
    "\"\"\"\n",
    "prompts = PromptTemplate(template=prompts_template, input_variables=[\"text\"])"
   ]
  },
  {
   "cell_type": "code",
   "execution_count": 13,
   "id": "df43e4ca",
   "metadata": {},
   "outputs": [],
   "source": [
    "# Create Chain \n",
    "# hf_chain = load_summarize_chain(llm=hf_llm, chain_type=\"stuff\", prompt=prompts)\n",
    "gr_chain = load_summarize_chain(llm=gr_llm, chain_type=\"stuff\", prompt=prompts)"
   ]
  },
  {
   "cell_type": "code",
   "execution_count": 14,
   "id": "35a4baf6",
   "metadata": {},
   "outputs": [
    {
     "name": "stderr",
     "output_type": "stream",
     "text": [
      "C:\\Users\\I Gusti Ayu Melinia\\AppData\\Local\\Temp\\ipykernel_18720\\2533630789.py:2: LangChainDeprecationWarning: The method `Chain.run` was deprecated in langchain 0.1.0 and will be removed in 1.0. Use :meth:`~invoke` instead.\n",
      "  summary_gr = gr_chain.run(yt_docs)\n"
     ]
    },
    {
     "name": "stdout",
     "output_type": "stream",
     "text": [
      "##  Kecerdasan Buatan untuk yang Terburu-buru: Sederhananya \n",
      "\n",
      "Video ini membahas tentang kecerdasan buatan (AI) dengan cara yang mudah dipahami. \n",
      "\n",
      "**AI itu apa?**\n",
      "\n",
      "AI adalah cabang ilmu komputer yang bertujuan menciptakan sistem yang dapat berfungsi secara cerdas dan mandiri, mirip seperti manusia. \n",
      "\n",
      "**Bagaimana AI bekerja?**\n",
      "\n",
      "AI mempelajari berbagai cara manusia berinteraksi dengan dunia. Beberapa contohnya:\n",
      "\n",
      "* **Pengenalan Suara (Speech Recognition):** AI belajar untuk memahami dan menerjemahkan ucapan manusia menjadi teks.\n",
      "* **Pemrosesan Bahasa Natural (NLP):** AI belajar untuk memahami dan memproses bahasa manusia seperti kita lakukan, termasuk membaca dan menulis.\n",
      "* **Penglihatan Komputer (Computer Vision):** AI belajar untuk \"melihat\" dan menafsirkan gambar dan video, seperti manusia yang mengenali objek.\n",
      "\n",
      "**Bagaimana AI belajar?**\n",
      "\n",
      "Ada dua cara utama AI belajar:\n",
      "\n",
      "* **Cara Simbolik:** AI mempelajari aturan dan simbol untuk memahami dunia, seperti mesin kalkulator yang menggunakan rumus matematika.\n",
      "* **Cara Data-Driven (Machine Learning):** AI belajar dari data besar.\n",
      "\n",
      "  * **Machine Learning:** AI dianalisis data besar untuk menemukan pola dan tren, lalu menggunakan pola tersebut untuk membuat prediksi atau klasifikasi. \n",
      "  * **Supervised Learning:** AI dilatih dengan data yang sudah berlabel (misalnya, gambar berlabel \"kucing\" atau \"anjing\").\n",
      "  * **Unsupervised Learning:** AI diberikan data tanpa label dan diharapkan menemukan pola sendiri (misalnya, mengelompokkan pelanggan berdasarkan perilaku).\n",
      "  * **Reinforcement Learning:** AI belajar melalui trial-and-error untuk mencapai tujuan tertentu (misalnya, robot yang belajar berjalan).\n",
      "\n",
      "**Manfaat AI:**\n",
      "\n",
      "AI dapat digunakan untuk berbagai tujuan, termasuk:\n",
      "\n",
      "* Menganalisis data untuk menemukan tren dan pola.\n",
      "* Memprediksi hasil berdasarkan data historis.\n",
      "* Otomatisasi tugas-tugas yang berulang.\n",
      "* Meningkatkan efisiensi dan produktivitas.\n",
      "* Membuat keputusan yang lebih baik.\n",
      "\n",
      "\n",
      "**Kesimpulan:**\n",
      "\n",
      "AI adalah teknologi yang berkembang pesat dengan potensi besar untuk mengubah dunia. Dengan memahami dasar-dasar AI, kita dapat menghargai manfaatnya dan bersiap untuk masa depan yang semakin dipengaruhi oleh kecerdasan buatan.\n",
      "\n",
      "\n",
      "\n"
     ]
    }
   ],
   "source": [
    "# Test LLM HF\n",
    "summary_gr = gr_chain.run(yt_docs)\n",
    "print(summary_gr)\n"
   ]
  },
  {
   "cell_type": "markdown",
   "id": "ff94b729",
   "metadata": {},
   "source": []
  }
 ],
 "metadata": {
  "kernelspec": {
   "display_name": "venv",
   "language": "python",
   "name": "python3"
  },
  "language_info": {
   "codemirror_mode": {
    "name": "ipython",
    "version": 3
   },
   "file_extension": ".py",
   "mimetype": "text/x-python",
   "name": "python",
   "nbconvert_exporter": "python",
   "pygments_lexer": "ipython3",
   "version": "3.11.5"
  }
 },
 "nbformat": 4,
 "nbformat_minor": 5
}
